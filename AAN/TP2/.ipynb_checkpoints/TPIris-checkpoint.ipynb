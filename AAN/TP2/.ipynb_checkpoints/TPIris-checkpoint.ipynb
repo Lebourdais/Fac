{
 "cells": [
  {
   "cell_type": "markdown",
   "metadata": {},
   "source": [
    "# Classificateur Bayésien : Les iris"
   ]
  },
  {
   "cell_type": "code",
   "execution_count": 1,
   "metadata": {},
   "outputs": [],
   "source": [
    "import numpy as np\n",
    "import math\n",
    "import seaborn as sns\n",
    "import pandas as pd"
   ]
  },
  {
   "cell_type": "code",
   "execution_count": 2,
   "metadata": {},
   "outputs": [],
   "source": [
    "from sklearn import datasets\n",
    "\n",
    "iris = datasets.load_iris()\n"
   ]
  },
  {
   "cell_type": "markdown",
   "metadata": {},
   "source": [
    "### Division de l'échantillon d'apprentissage"
   ]
  },
  {
   "cell_type": "markdown",
   "metadata": {},
   "source": [
    "Les données étant triées par classe, il faut tout d'abord les mélanger "
   ]
  },
  {
   "cell_type": "code",
   "execution_count": 3,
   "metadata": {},
   "outputs": [],
   "source": [
    "Ciris = np.c_[iris.data.reshape(len(iris.data), -1), iris.target.reshape(len(iris.target), -1)]\n",
    "\n",
    "np.random.shuffle(Ciris)\n",
    "shuffledIrisData = Ciris[ :, :iris.data.size//len(iris.data)].reshape(iris.data.shape)\n",
    "shuffledIrisTarget = Ciris[ :, iris.data.size//len(iris.data) :].reshape(iris.target.shape)"
   ]
  },
  {
   "cell_type": "markdown",
   "metadata": {},
   "source": [
    "Le Corpus doit être séparé en trois parties:\n",
    "- l'Apprentissage : 100 valeurs\n",
    "- Le Dev : 30 valeurs\n",
    "- le Test : 20 valeurs"
   ]
  },
  {
   "cell_type": "code",
   "execution_count": 4,
   "metadata": {},
   "outputs": [],
   "source": [
    "appIrisData = shuffledIrisData[0:100]\n",
    "appIrisTarget = shuffledIrisTarget[0:100]\n",
    "devIrisData = shuffledIrisData[100:130]\n",
    "devIrisTarget = shuffledIrisTarget[100:130]\n",
    "testIrisData = shuffledIrisData[130:150]\n",
    "testIrisTarget = shuffledIrisTarget[130:150]"
   ]
  },
  {
   "cell_type": "markdown",
   "metadata": {},
   "source": [
    "### Phase d'apprentissage"
   ]
  },
  {
   "cell_type": "markdown",
   "metadata": {},
   "source": [
    "Probabilité apriori :\n",
    "\n",
    "<span>$ \\frac{Effectif}{EffectifTotal} $</span>\n",
    "\n",
    "Soit les différentes classes d'iris:\n",
    "- Setosa noté 0\n",
    "- Versicolor noté 1\n",
    "- Virginica noté 2"
   ]
  },
  {
   "cell_type": "code",
   "execution_count": 5,
   "metadata": {},
   "outputs": [
    {
     "name": "stdout",
     "output_type": "stream",
     "text": [
      "Probabilité Virginica = 0.33\n",
      "Probabilité Versicolor = 0.31\n",
      "Probabilité Setosa = 0.36\n"
     ]
    }
   ],
   "source": [
    "pSetosa = np.count_nonzero(appIrisTarget == 0)/100\n",
    "pVersicolor = np.count_nonzero(appIrisTarget == 1)/100\n",
    "pVirginica = np.count_nonzero(appIrisTarget == 2)/100\n",
    "print (\"Probabilité Virginica = \" +str(pVirginica))\n",
    "print (\"Probabilité Versicolor = \" +str(pVersicolor))\n",
    "print (\"Probabilité Setosa = \" +str(pSetosa))\n"
   ]
  },
  {
   "cell_type": "code",
   "execution_count": 6,
   "metadata": {},
   "outputs": [],
   "source": [
    "listSetosa = []\n",
    "listVersicolor = []\n",
    "listVirginica = []\n",
    "for index,value in enumerate(appIrisTarget):\n",
    "    if value == 0:\n",
    "        listSetosa.append([appIrisData[index][0],appIrisData[index][1]])\n",
    "    elif value == 1:\n",
    "        listVersicolor.append([appIrisData[index][0],appIrisData[index][1]])\n",
    "    elif value == 2:\n",
    "        listVirginica.append([appIrisData[index][0],appIrisData[index][1]])\n",
    "arraySetosa=np.array(listSetosa)\n",
    "arrayVersicolor = np.array(listVersicolor)\n",
    "arrayVirginica = np.array(listVirginica)\n",
    "\n",
    "moySetosa = np.mean(arraySetosa, axis=0)\n",
    "moyVersicolor = np.mean(arrayVersicolor, axis=0)\n",
    "moyVirginica = np.mean(arrayVirginica, axis=0)\n",
    "\n",
    "covSetosa = np.cov(arraySetosa.T)\n",
    "covVersicolor = np.cov(arrayVersicolor.T)\n",
    "covVirginica = np.cov(arrayVirginica.T)\n"
   ]
  },
  {
   "cell_type": "markdown",
   "metadata": {},
   "source": [
    "Calcul des vraisemblances\n",
    "Avec n nombre de valeurs du corpus, $\\sum$ matrice de variance-covariance et x corpus utilisé\n",
    "\n",
    "<span> $ p(x) = \\frac{1}{(2*\\pi)^\\frac{n}{2}*\\sqrt|\\sum|}*exp^{\\frac{-1}{2}*((x-\\mu){}^t . \\sum {}^-1 . (x-\\mu))}  $ </span>"
   ]
  },
  {
   "cell_type": "code",
   "execution_count": 7,
   "metadata": {},
   "outputs": [],
   "source": [
    "def f(x,cov,moy,length):\n",
    "    return (1/((2*np.pi)**(length/2)*np.sqrt(np.linalg.det(cov)))*np.exp((-1/2)*((x-moy)).dot(np.linalg.inv(cov)).dot((x-moy).T)))"
   ]
  },
  {
   "cell_type": "markdown",
   "metadata": {},
   "source": [
    "Les valeurs ont l'air très mélangées. Il faut tester avec les deux autres valeurs"
   ]
  },
  {
   "cell_type": "markdown",
   "metadata": {},
   "source": [
    "# Phase de Développement"
   ]
  },
  {
   "cell_type": "markdown",
   "metadata": {},
   "source": [
    "### Test avec 2 éléments"
   ]
  },
  {
   "cell_type": "code",
   "execution_count": 8,
   "metadata": {},
   "outputs": [
    {
     "name": "stdout",
     "output_type": "stream",
     "text": [
      "Liste des scores de combinaison de 2 éléments\n",
      "[((0, 1), 24), ((0, 2), 27), ((0, 3), 29), ((1, 2), 26), ((1, 3), 27), ((2, 3), 29)]\n"
     ]
    }
   ],
   "source": [
    "scorelist = []\n",
    "for i in range(0,4):\n",
    "    for j in range(0,4):\n",
    "        if i<j:\n",
    "            listSetosa2 = []\n",
    "            listVersicolor2 = []\n",
    "            listVirginica2 = []\n",
    "            for index,value in enumerate(appIrisTarget):\n",
    "                if value == 0:\n",
    "                    listSetosa2.append([appIrisData[index][i],appIrisData[index][j]])\n",
    "                elif value == 1:\n",
    "                    listVersicolor2.append([appIrisData[index][i],appIrisData[index][j]])\n",
    "                elif value == 2:\n",
    "                    listVirginica2.append([appIrisData[index][i],appIrisData[index][j]])\n",
    "            arraySetosa2=np.array(listSetosa2)\n",
    "            arrayVersicolor2 = np.array(listVersicolor2)\n",
    "            arrayVirginica2 = np.array(listVirginica2)\n",
    "\n",
    "            moySetosa2 = np.mean(arraySetosa2, axis=0)\n",
    "            moyVersicolor2 = np.mean(arrayVersicolor2, axis=0)\n",
    "            moyVirginica2 = np.mean(arrayVirginica2, axis=0)\n",
    "\n",
    "            covSetosa2 = np.cov(arraySetosa2.T)\n",
    "            covVersicolor2 = np.cov(arrayVersicolor2.T)\n",
    "            covVirginica2 = np.cov(arrayVirginica2.T)\n",
    "\n",
    "            listIris2 = []\n",
    "            for value in devIrisData:\n",
    "                listIris2.append([value[i],value[j]])\n",
    "            arrayIris2 = np.array(listIris2)    \n",
    "            listRes2 = []\n",
    "            for x in arrayIris2:\n",
    "                ppVirginica2 = f(np.array([x]),covVirginica2,moyVirginica2,len(arrayIris2))*pVirginica\n",
    "                ppVersicolor2 = f(np.array([x]),covVersicolor2,moyVersicolor2,len(arrayIris2))*pVersicolor\n",
    "                ppSetosa2 = f(np.array([x]),covSetosa2,moySetosa2,len(arrayIris2))*pSetosa\n",
    "                res2 = [ppSetosa2,ppVersicolor2,ppVirginica2].index(max([ppSetosa2,ppVersicolor2,ppVirginica2]))\n",
    "\n",
    "                listRes2.append(res2)\n",
    "            score = 0    \n",
    "            for index,value in enumerate(listRes2):\n",
    "                if value == devIrisTarget[index]:\n",
    "                    score+=1\n",
    "\n",
    "            scorelist.append(((i,j),score))\n",
    "\n",
    "print(\"Liste des scores de combinaison de 2 éléments\")\n",
    "print(scorelist)"
   ]
  },
  {
   "cell_type": "markdown",
   "metadata": {},
   "source": [
    "### Test avec 4 élements"
   ]
  },
  {
   "cell_type": "markdown",
   "metadata": {},
   "source": [
    "On teste avec tout les éléments, ce qui semble, à priori la meilleur solution."
   ]
  },
  {
   "cell_type": "code",
   "execution_count": 9,
   "metadata": {},
   "outputs": [
    {
     "name": "stdout",
     "output_type": "stream",
     "text": [
      "Score pour 4 éléments : 29/30\n"
     ]
    }
   ],
   "source": [
    "listSetosa2 = []\n",
    "listVersicolor2 = []\n",
    "listVirginica2 = []\n",
    "for index,value in enumerate(devIrisTarget):\n",
    "    if value == 0:\n",
    "        listSetosa2.append([devIrisData[index][0],devIrisData[index][1],devIrisData[index][2],devIrisData[index][3]])\n",
    "    elif value == 1:\n",
    "        listVersicolor2.append([devIrisData[index][0],devIrisData[index][1],devIrisData[index][2],devIrisData[index][3]])\n",
    "    elif value == 2:\n",
    "        listVirginica2.append([devIrisData[index][0],devIrisData[index][1],devIrisData[index][2],devIrisData[index][3]])\n",
    "arraySetosa2=np.array(listSetosa2)\n",
    "arrayVersicolor2 = np.array(listVersicolor2)\n",
    "arrayVirginica2 = np.array(listVirginica2)\n",
    "\n",
    "moySetosa2 = np.mean(arraySetosa2, axis=0)\n",
    "moyVersicolor2 = np.mean(arrayVersicolor2, axis=0)\n",
    "moyVirginica2 = np.mean(arrayVirginica2, axis=0)\n",
    "\n",
    "covSetosa2 = np.cov(arraySetosa2.T)\n",
    "covVersicolor2 = np.cov(arrayVersicolor2.T)\n",
    "covVirginica2 = np.cov(arrayVirginica2.T)\n",
    "\n",
    "listIris2 = []\n",
    "for value in devIrisData:\n",
    "    listIris2.append([value[0],value[1],value[2],value[3]])\n",
    "arrayIris2 = np.array(listIris2)    \n",
    "listRes2 = []\n",
    "\n",
    "for x in arrayIris2:\n",
    "    ppVirginica2 = f(np.array([x]),covVirginica2,moyVirginica2,len(arrayIris2))*pVirginica\n",
    "    ppVersicolor2 = f(np.array([x]),covVersicolor2,moyVersicolor2,len(arrayIris2))*pVersicolor\n",
    "    ppSetosa2 = f(np.array([x]),covSetosa2,moySetosa2,len(arrayIris2))*pSetosa\n",
    "    res2 = [ppSetosa2,ppVersicolor2,ppVirginica2].index(max([ppSetosa2,ppVersicolor2,ppVirginica2]))\n",
    "\n",
    "    listRes2.append(res2)\n",
    "score = 0    \n",
    "for index,value in enumerate(listRes2):\n",
    "    if value == devIrisTarget[index]:\n",
    "        score+=1\n",
    "\n",
    "print(\"Score pour 4 éléments : \"+str(score)+\"/\"+str(len(listRes2)))"
   ]
  },
  {
   "cell_type": "markdown",
   "metadata": {},
   "source": [
    "# Phase d'Evaluation:"
   ]
  },
  {
   "cell_type": "markdown",
   "metadata": {},
   "source": [
    "La meilleur solution, et donc celle que l'on evaluera est celle à 4 éléments. On utilise la moyenne et la matrice de variance covarience trouvée précédemment."
   ]
  },
  {
   "cell_type": "code",
   "execution_count": 10,
   "metadata": {},
   "outputs": [
    {
     "name": "stdout",
     "output_type": "stream",
     "text": [
      "Prédit,réel\n",
      "0.0   0\n",
      "0.0   0\n",
      "2.0   2\n",
      "1.0   1\n",
      "0.0   0\n",
      "2.0   2\n",
      "2.0   2\n",
      "2.0   2\n",
      "1.0   1\n",
      "0.0   0\n",
      "2.0   2\n",
      "2.0   2\n",
      "1.0   1\n",
      "2.0   2\n",
      "2.0   2\n",
      "2.0   2\n",
      "0.0   0\n",
      "1.0   1\n",
      "1.0   1\n",
      "0.0   0\n",
      "Score =  20 / 20\n"
     ]
    }
   ],
   "source": [
    "listSetosa3 = []\n",
    "listVersicolor3 = []\n",
    "listVirginica3 = []\n",
    "for index,value in enumerate(testIrisTarget):\n",
    "    if value == 0:\n",
    "        listSetosa3.append([testIrisData[index][0],testIrisData[index][1],testIrisData[index][2],testIrisData[index][3]])\n",
    "    elif value == 1:\n",
    "        listVersicolor3.append([testIrisData[index][0],testIrisData[index][1],testIrisData[index][2],testIrisData[index][3]])\n",
    "    elif value == 2:\n",
    "        listVirginica3.append([testIrisData[index][0],testIrisData[index][1],testIrisData[index][2],testIrisData[index][3]])\n",
    "arraySetosa3=np.array(listSetosa3)\n",
    "arrayVersicolor3 = np.array(listVersicolor3)\n",
    "arrayVirginica3 = np.array(listVirginica3)\n",
    "\n",
    "listIris3 = []\n",
    "for value in testIrisData:\n",
    "    listIris3.append([value[0],value[1],value[2],value[3]])\n",
    "arrayIris3 = np.array(listIris3)    \n",
    "listRes3 = []\n",
    "for x in arrayIris3:\n",
    "    ppVirginica3 = f(np.array([x]),covVirginica2,moyVirginica2,len(arrayIris3))*pVirginica\n",
    "    ppVersicolor3 = f(np.array([x]),covVersicolor2,moyVersicolor2,len(arrayIris3))*pVersicolor\n",
    "    ppSetosa3 = f(np.array([x]),covSetosa2,moySetosa2,len(arrayIris3))*pSetosa\n",
    "    res3 = [ppSetosa3,ppVersicolor3,ppVirginica3].index(max([ppSetosa3,ppVersicolor3,ppVirginica3]))\n",
    "\n",
    "    listRes3.append(res3)\n",
    "score = 0\n",
    "print(\"Prédit,réel\")\n",
    "confusion = [[0,0,0],[0,0,0],[0,0,0]]\n",
    "for index,value in enumerate(listRes3):\n",
    "    \n",
    "    if value == testIrisTarget[index]:\n",
    "        confusion[value][value]+=1\n",
    "        print(testIrisTarget[index],\" \",value)\n",
    "        score += 1\n",
    "    else :\n",
    "        confusion[int(testIrisTarget[index])][value]+=1\n",
    "        print(testIrisTarget[index],\" \",value,\" Error\")\n",
    "print(\"Score = \",score,\"/\",len(listRes3))"
   ]
  },
  {
   "cell_type": "markdown",
   "metadata": {},
   "source": [
    "Affichage de la matrice de confusion calculée au dessus."
   ]
  },
  {
   "cell_type": "code",
   "execution_count": 11,
   "metadata": {},
   "outputs": [
    {
     "data": {
      "text/plain": [
       "<matplotlib.axes._subplots.AxesSubplot at 0x7f59aa7a8dd8>"
      ]
     },
     "execution_count": 11,
     "metadata": {},
     "output_type": "execute_result"
    },
    {
     "data": {
      "image/png": "[encoded data removed]",
      "text/plain": [
       "<Figure size 432x288 with 2 Axes>"
      ]
     },
     "metadata": {},
     "output_type": "display_data"
    }
   ],
   "source": [
    "matrice_confusion = pd.DataFrame(confusion, [\"Setosa\",\"Versicolor\",\"Virginica\"],\n",
    "                  [\"Setosa\",\"Versicolor\",\"Virginica\"])\n",
    "#plt.figure(figsize = (10,7))\n",
    "sns.set(font_scale=1.4)#for label size\n",
    "sns.heatmap(matrice_confusion, annot=True,annot_kws={\"size\": 16})"
   ]
  },
  {
   "cell_type": "markdown",
   "metadata": {},
   "source": [
    "### Calcul Rappel,Precision"
   ]
  },
  {
   "cell_type": "markdown",
   "metadata": {},
   "source": [
    "<span>$ rappel_i = \\frac{nb\\ instances\\ correctement\\ classées\\ i}{nb\\ instances\\ réellement\\ i} $ </span>\n",
    "\n",
    "<span>$ rappel = \\frac{\\sum_i\\ rappel_i}{nombre\\ de\\ classes}$ </span>\n",
    "\n",
    "<span>$ precision_i = \\frac{nb\\ instances\\ correctement\\ classées\\ i}{nb\\ instances\\ classée\\ i} $ </span>\n",
    "\n",
    "<span>$ precision = \\frac{\\sum_i\\ precision_i}{nombre\\ de\\ classes}$ </span>"
   ]
  },
  {
   "cell_type": "code",
   "execution_count": 12,
   "metadata": {},
   "outputs": [
    {
     "name": "stdout",
     "output_type": "stream",
     "text": [
      "Precision = 1.0\n",
      "Rappel = 1.0\n",
      "F-mesure = 1.0\n"
     ]
    }
   ],
   "source": [
    "precisionVersicolor = confusion[1][1]/(confusion[1][0]+confusion[1][1]+confusion[1][2])\n",
    "precisionSetosa = confusion[0][0]/(confusion[0][0]+confusion[0][1]+confusion[0][2])\n",
    "precisionVirginica = confusion[2][2]/(confusion[2][0]+confusion[2][1]+confusion[2][2])\n",
    "\n",
    "precision = (precisionVersicolor + precisionSetosa + precisionVirginica)/3\n",
    "print(\"Precision = \" + str(precision))\n",
    "\n",
    "rappelVersicolor = confusion[1][1]/(confusion[1][1]+confusion[2][1]+confusion[0][1])\n",
    "rappelSetosa = confusion[0][0]/(confusion[0][0]+confusion[1][0]+confusion[2][0])\n",
    "rappelVirginica = confusion[2][2]/(confusion[0][2]+confusion[1][2]+confusion[2][2])\n",
    "\n",
    "rappel = (rappelVersicolor + rappelSetosa + rappelVirginica)/3\n",
    "print(\"Rappel = \" + str(rappel))\n",
    "beta = 1\n",
    "fmesure = ((1 + beta**2)* rappel * precision)/(beta**2*(rappel+precision))\n",
    "print(\"F-mesure = \" + str(fmesure))"
   ]
  }
 ],
 "metadata": {
  "kernelspec": {
   "display_name": "Python 3",
   "language": "python",
   "name": "python3"
  },
  "language_info": {
   "codemirror_mode": {
    "name": "ipython",
    "version": 3
   },
   "file_extension": ".py",
   "mimetype": "text/x-python",
   "name": "python",
   "nbconvert_exporter": "python",
   "pygments_lexer": "ipython3",
   "version": "3.7.0"
  }
 },
 "nbformat": 4,
 "nbformat_minor": 2
}
